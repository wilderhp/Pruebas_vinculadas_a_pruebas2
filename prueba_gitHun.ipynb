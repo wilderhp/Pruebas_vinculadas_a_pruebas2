{
 "cells": [
  {
   "cell_type": "code",
   "execution_count": null,
   "id": "cf8d672e",
   "metadata": {},
   "outputs": [],
   "source": [
    "'Hola Mndo'"
   ]
  },
  {
   "cell_type": "code",
   "execution_count": 4,
   "id": "14c9ec9c",
   "metadata": {},
   "outputs": [],
   "source": [
    "import pandas as pd\n",
    "import numpy as np"
   ]
  },
  {
   "cell_type": "code",
   "execution_count": 7,
   "id": "78fd0ef0",
   "metadata": {},
   "outputs": [],
   "source": [
    "array= np.random.randn(1,20)"
   ]
  },
  {
   "cell_type": "code",
   "execution_count": 8,
   "id": "3e0419de",
   "metadata": {},
   "outputs": [
    {
     "data": {
      "text/plain": [
       "array([[ 0.90924195,  1.29852612, -0.46614649, -1.13717244,  0.9886907 ,\n",
       "         0.02678608, -2.21356664, -1.71824447, -0.20953045,  1.94926393,\n",
       "        -0.62726971, -1.02650788,  1.081014  , -0.61836124,  1.93603477,\n",
       "        -0.19719887,  0.6746928 , -0.03543041,  0.43269819,  0.02501551]])"
      ]
     },
     "execution_count": 8,
     "metadata": {},
     "output_type": "execute_result"
    }
   ],
   "source": [
    "array"
   ]
  },
  {
   "cell_type": "code",
   "execution_count": 11,
   "id": "c1d03ce4",
   "metadata": {},
   "outputs": [],
   "source": [
    "lista1=list(range(1,10))"
   ]
  },
  {
   "cell_type": "code",
   "execution_count": 12,
   "id": "d050ebc3",
   "metadata": {},
   "outputs": [
    {
     "data": {
      "text/plain": [
       "[1, 2, 3, 4, 5, 6, 7, 8, 9]"
      ]
     },
     "execution_count": 12,
     "metadata": {},
     "output_type": "execute_result"
    }
   ],
   "source": [
    "lista1"
   ]
  },
  {
   "cell_type": "code",
   "execution_count": null,
   "id": "953d1fe4",
   "metadata": {},
   "outputs": [],
   "source": []
  }
 ],
 "metadata": {
  "kernelspec": {
   "display_name": "Python 3",
   "language": "python",
   "name": "python3"
  },
  "language_info": {
   "codemirror_mode": {
    "name": "ipython",
    "version": 3
   },
   "file_extension": ".py",
   "mimetype": "text/x-python",
   "name": "python",
   "nbconvert_exporter": "python",
   "pygments_lexer": "ipython3",
   "version": "3.8.8"
  }
 },
 "nbformat": 4,
 "nbformat_minor": 5
}
